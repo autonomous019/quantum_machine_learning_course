{
    "cells": [
        {
            "cell_type": "markdown",
            "metadata": {},
            "source": [
                "<span style=\"color:red\"><b>Please note: you do not have to understand the content of this notebook yet. THe rest of the course will walk you through the details. This introduction is here in case you are undecided which framework you would like to use and to serve as a reference material for operations that we will use frequently.<\/b><\/span>"
            ]
        },
        {
            "cell_type": "markdown",
            "metadata": {},
            "source": [
                "# Getting started\n",
                "\n",
                "[Qiskit](https:\/\/www.qiskit.org\/) is a comprehensive suite of a language allowing you to define circuits, a simulator, a collection of quantum algorithms, among other important components. For setting it up on your computer, please refer to the Qiskit documentation. Here we spell out the details of Qiskit that are critical for the rest of the notebooks.\n",
                "\n",
                "The most basic elements are quantum and classical register, and the quantum circuit:"
            ]
        },
        {
            "cell_type": "code",
            "execution_count": null,
            "metadata": {
                "ExecuteTime": {
                    "end_time": "2018-11-19T19:31:22.021333Z",
                    "start_time": "2018-11-19T19:31:21.244869Z"
                },
                "collapsed": true
            },
            "outputs": [],
            "source": [
                "from qiskit import ClassicalRegister, QuantumRegister, QuantumCircuit"
            ]
        },
        {
            "cell_type": "markdown",
            "metadata": {},
            "source": [
                "The classical registers hold measurement results. The quantum circuit takes gates that operate on the quantum registers. Once we define our algorithm in terms of gates and measurements, we need to execute the circuit:"
            ]
        },
        {
            "cell_type": "code",
            "execution_count": null,
            "metadata": {
                "ExecuteTime": {
                    "end_time": "2018-11-19T19:31:22.027087Z",
                    "start_time": "2018-11-19T19:31:22.023937Z"
                },
                "collapsed": true
            },
            "outputs": [],
            "source": [
                "from qiskit import execute"
            ]
        },
        {
            "cell_type": "markdown",
            "metadata": {},
            "source": [
                "The execution can happen on the quantum processing unit or on a classical simulator. We will rely on the simulator, which is called Aer in qiskit. If you want to try the algorithms we construct on the actual quantum hardware, you will need to set up tokens and manage your computational time, since you have a restricted amount of credit each day. This is the main reason we rely on Aer instead:"
            ]
        },
        {
            "cell_type": "code",
            "execution_count": null,
            "metadata": {
                "ExecuteTime": {
                    "end_time": "2018-11-19T19:31:22.046301Z",
                    "start_time": "2018-11-19T19:31:22.028982Z"
                },
                "collapsed": true
            },
            "outputs": [],
            "source": [
                "from qiskit import BasicAer"
            ]
        },
        {
            "cell_type": "markdown",
            "metadata": {},
            "source": [
                "This simulator has multiple backends, allowing us to do simulations with slightly different purposes, as we will see later.\n",
                "\n",
                "Qiskit is overly generously with numerical precision, which we suppress for the sake of better readability of the output:"
            ]
        },
        {
            "cell_type": "code",
            "execution_count": null,
            "metadata": {
                "ExecuteTime": {
                    "end_time": "2018-11-19T19:31:22.068246Z",
                    "start_time": "2018-11-19T19:31:22.048704Z"
                },
                "collapsed": true
            },
            "outputs": [],
            "source": [
                "import numpy as np\n",
                "np.set_printoptions(precision=3, suppress=True)"
            ]
        },
        {
            "cell_type": "markdown",
            "metadata": {},
            "source": [
                "# Backends\n",
                "\n",
                "The most straightforward simulator backend does exactly what we would expect: it runs a quantum algorithm and writes the measurement results to classical registers. After running a circuit a few times on the simulator, we can inspect the statistics of the results. This backend is called `qasm_simulator`:"
            ]
        },
        {
            "cell_type": "code",
            "execution_count": null,
            "metadata": {
                "ExecuteTime": {
                    "end_time": "2018-11-19T19:31:22.088792Z",
                    "start_time": "2018-11-19T19:31:22.071616Z"
                },
                "collapsed": true
            },
            "outputs": [],
            "source": [
                "backend = BasicAer.get_backend('qasm_simulator')"
            ]
        },
        {
            "cell_type": "markdown",
            "metadata": {},
            "source": [
                "Let us build the simplest possible circuit that has no gates and only a measurement on a single qubit, writing out the result to a single classical register:"
            ]
        },
        {
            "cell_type": "code",
            "execution_count": null,
            "metadata": {
                "ExecuteTime": {
                    "end_time": "2018-11-19T19:31:22.165317Z",
                    "start_time": "2018-11-19T19:31:22.091536Z"
                },
                "collapsed": true
            },
            "outputs": [],
            "source": [
                "q = QuantumRegister(1)\n",
                "c = ClassicalRegister(1)\n",
                "circuit = QuantumCircuit(q, c)\n",
                "circuit.measure(q[0], c[0])"
            ]
        },
        {
            "cell_type": "markdown",
            "metadata": {},
            "source": [
                "We execute this circuit on the simulator and observe the statistics:"
            ]
        },
        {
            "cell_type": "code",
            "execution_count": null,
            "metadata": {
                "ExecuteTime": {
                    "end_time": "2018-11-19T19:31:22.237384Z",
                    "start_time": "2018-11-19T19:31:22.168525Z"
                },
                "collapsed": true
            },
            "outputs": [],
            "source": [
                "job = execute(circuit, backend, shots=100)\n",
                "result = job.result()\n",
                "result.get_counts(circuit)"
            ]
        },
        {
            "cell_type": "markdown",
            "metadata": {},
            "source": [
                "Remember that the qubit registers are always initialized as $|0\\rangle$. Not surprisingly, out of a hundred executions, we get 0 a hundred times. If you executed this on the quantum processor, you might get some 1s -- that would be due to noise.\n",
                "\n",
                "If this was the only simulator backend, we would have a hard time debugging our quantum algorithms. Why? We would have to reconstruct the quantum state based on the measurements we make, which is not a trivial task in general. True, this is the only option we have on the actual hardware, but in a simulator, we have one more possibility: we could actually inspect the simulated quantum state (the wavefunction). Qiskit provides a backend for doing this called `statevector_simulator`."
            ]
        },
        {
            "cell_type": "code",
            "execution_count": null,
            "metadata": {
                "ExecuteTime": {
                    "end_time": "2018-11-19T19:31:22.245468Z",
                    "start_time": "2018-11-19T19:31:22.240650Z"
                },
                "collapsed": true
            },
            "outputs": [],
            "source": [
                "backend = BasicAer.get_backend('statevector_simulator')"
            ]
        },
        {
            "cell_type": "markdown",
            "metadata": {},
            "source": [
                "In this case, we do not have to add measurements, unless the protocol we are implementing uses a measurement in its internal operation. So we can build a circuit without a measurement and inspect the quantum state directly. With this backend, an empty circuit needs at least an identity operation (`iden`), otherwise a simulation would throw an error."
            ]
        },
        {
            "cell_type": "code",
            "execution_count": null,
            "metadata": {
                "ExecuteTime": {
                    "end_time": "2018-11-19T19:31:22.293374Z",
                    "start_time": "2018-11-19T19:31:22.248278Z"
                },
                "collapsed": true
            },
            "outputs": [],
            "source": [
                "circuit = QuantumCircuit(q, c)\n",
                "circuit.iden(q[0])\n",
                "job = execute(circuit, backend)\n",
                "state = job.result().get_statevector(circuit)\n",
                "print(state)"
            ]
        },
        {
            "cell_type": "markdown",
            "metadata": {},
            "source": [
                "So in this case, we see it is the $|0\\rangle$ state, as opposed to observing just the measurement statistics. This is especially important because the type of measurements we can perform are extremely restricted: technically speaking, we always measure in the computational basis. This means that, for instance, the states $|1\\rangle$ and $-|1\\rangle$ are indistinguishable based on the measurement statistics."
            ]
        },
        {
            "cell_type": "markdown",
            "metadata": {},
            "source": [
                "# Visualization"
            ]
        },
        {
            "cell_type": "markdown",
            "metadata": {},
            "source": [
                "There are three handy ways of visualizing what we are doing. The first one is drawing the circuit:"
            ]
        },
        {
            "cell_type": "code",
            "execution_count": null,
            "metadata": {
                "ExecuteTime": {
                    "end_time": "2018-11-19T19:31:23.135544Z",
                    "start_time": "2018-11-19T19:31:22.296300Z"
                },
                "collapsed": true
            },
            "outputs": [],
            "source": [
                "from qiskit.tools.visualization import circuit_drawer\n",
                "q = QuantumRegister(1)\n",
                "c = ClassicalRegister(1)\n",
                "circuit = QuantumCircuit(q, c)\n",
                "circuit.measure(q[0], c[0])\n",
                "circuit_drawer(circuit)"
            ]
        },
        {
            "cell_type": "markdown",
            "metadata": {},
            "source": [
                "This gives a quick sanity check to see whether we correctly implemented some circuit.\n",
                "\n",
                "The second one shows the operation on the Bloch sphere, which is especially important for beginners to understand how rotations happen. Qiskit has a built-in function to plot a state on the Bloch sphere. This visualization method relies on the state vector simulator backend. For instance, let's compare the initial state $|0\\rangle$ and the Hadamard gate applied to it:"
            ]
        },
        {
            "cell_type": "code",
            "execution_count": null,
            "metadata": {
                "ExecuteTime": {
                    "end_time": "2018-11-19T19:31:24.105595Z",
                    "start_time": "2018-11-19T19:31:23.142061Z"
                },
                "collapsed": true
            },
            "outputs": [],
            "source": [
                "from qiskit.tools.visualization import plot_bloch_multivector\n",
                "backend = BasicAer.get_backend('statevector_simulator')\n",
                "circuit = QuantumCircuit(q, c)\n",
                "circuit.iden(q[0])\n",
                "job = execute(circuit, backend)\n",
                "state = job.result().get_statevector(circuit)\n",
                "print(\"Initial state\")\n",
                "plot_bloch_multivector(state)"
            ]
        },
        {
            "cell_type": "markdown",
            "metadata": {},
            "source": [
                "After the Hadamard gate:"
            ]
        },
        {
            "cell_type": "code",
            "execution_count": null,
            "metadata": {
                "collapsed": true
            },
            "outputs": [],
            "source": [
                "circuit.h(q[0])\n",
                "job = execute(circuit, backend)\n",
                "state = job.result().get_statevector(circuit)\n",
                "print(\"After a Hadamard gate\")\n",
                "plot_bloch_multivector(state)"
            ]
        },
        {
            "cell_type": "markdown",
            "metadata": {},
            "source": [
                "The third way of visualizing what happens is plotting the statistics of measurement results. Arguably, this is the most important for practical applications and debugging. This visualization needs the `qasm_simulator` backend."
            ]
        },
        {
            "cell_type": "code",
            "execution_count": null,
            "metadata": {
                "ExecuteTime": {
                    "end_time": "2018-11-19T19:31:24.455598Z",
                    "start_time": "2018-11-19T19:31:24.109562Z"
                },
                "collapsed": true
            },
            "outputs": [],
            "source": [
                "from qiskit.tools.visualization import plot_histogram\n",
                "backend = BasicAer.get_backend('qasm_simulator')\n",
                "q = QuantumRegister(1)\n",
                "c = ClassicalRegister(1)\n",
                "circuit = QuantumCircuit(q, c)\n",
                "circuit.measure(q[0], c[0])\n",
                "job = execute(circuit, backend, shots=1000)\n",
                "print(\"Initial state statistics\")\n",
                "plot_histogram(job.result().get_counts(circuit))"
            ]
        },
        {
            "cell_type": "code",
            "execution_count": null,
            "metadata": {
                "collapsed": true
            },
            "outputs": [],
            "source": [
                "circuit = QuantumCircuit(q, c)\n",
                "circuit.h(q[0])\n",
                "circuit.measure(q[0], c[0])\n",
                "job = execute(circuit, backend, shots=1000)\n",
                "print(\"Statistics if we apply a Hadamard gate\")\n",
                "plot_histogram(job.result().get_counts(circuit))"
            ]
        },
        {
            "cell_type": "markdown",
            "metadata": {},
            "source": [
                "As we can see, the 'perfect' nature of the simulator is reflected again in getting all 0s for the initial state, and a distribution very close to uniform after applying the Hadamard gate. In a longer circuit on real quantum hardware, these statistics would be heavily affected by noise."
            ]
        }
    ],
    "metadata": {
        "kernelspec": {
            "display_name": "Python 3 [3.6]",
            "language": "python",
            "name": "python3"
        },
        "language_info": {
            "codemirror_mode": {
                "name": "ipython",
                "version": 3
            },
            "file_extension": ".py",
            "mimetype": "text\/x-python",
            "name": "python",
            "nbconvert_exporter": "python",
            "pygments_lexer": "ipython3",
            "version": "3.6.4"
        }
    },
    "nbformat": 4,
    "nbformat_minor": 2
}